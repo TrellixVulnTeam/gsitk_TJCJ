{
 "cells": [
  {
   "cell_type": "code",
   "execution_count": 1,
   "metadata": {
    "ExecuteTime": {
     "end_time": "2017-02-15T16:18:42.414547",
     "start_time": "2017-02-15T16:18:42.382895"
    },
    "collapsed": true,
    "deletable": true,
    "editable": true
   },
   "outputs": [],
   "source": [
    "%load_ext autoreload"
   ]
  },
  {
   "cell_type": "code",
   "execution_count": 2,
   "metadata": {
    "ExecuteTime": {
     "end_time": "2017-02-15T16:18:43.313290",
     "start_time": "2017-02-15T16:18:43.306369"
    },
    "collapsed": true,
    "deletable": true,
    "editable": true
   },
   "outputs": [],
   "source": [
    "%autoreload 2"
   ]
  },
  {
   "cell_type": "code",
   "execution_count": 3,
   "metadata": {
    "ExecuteTime": {
     "end_time": "2017-02-15T16:18:50.241618",
     "start_time": "2017-02-15T16:18:50.229492"
    },
    "collapsed": false,
    "deletable": true,
    "editable": true
   },
   "outputs": [],
   "source": [
    "import logging\n",
    "\n",
    "logging.basicConfig(level=logging.DEBUG)"
   ]
  },
  {
   "cell_type": "code",
   "execution_count": 79,
   "metadata": {
    "ExecuteTime": {
     "end_time": "2017-02-15T17:03:39.203392",
     "start_time": "2017-02-15T17:03:39.172301"
    },
    "collapsed": false,
    "deletable": true,
    "editable": true
   },
   "outputs": [],
   "source": [
    "import gsitk\n",
    "\n",
    "from gsitk.datasets import utils, sentiment140\n",
    "from gsitk.features import word2vec, utils"
   ]
  },
  {
   "cell_type": "code",
   "execution_count": 5,
   "metadata": {
    "ExecuteTime": {
     "end_time": "2017-02-15T17:17:27.219078",
     "start_time": "2017-02-15T17:17:14.027606"
    },
    "collapsed": false,
    "deletable": true,
    "editable": true
   },
   "outputs": [
    {
     "name": "stderr",
     "output_type": "stream",
     "text": [
      "DEBUG:gsitk.datasets.sentiment140:Preparing data: sentiment140\n",
      "DEBUG:gsitk.datasets.utils:Checking data path: /data/sentiment140\n",
      "DEBUG:gsitk.datasets.utils:Verified: trainingandtestdata.zip\n",
      "DEBUG:gsitk.datasets.sentiment140:sentiment140 data is ready\n"
     ]
    }
   ],
   "source": [
    "data = sentiment140.prepare_data()"
   ]
  },
  {
   "cell_type": "code",
   "execution_count": 18,
   "metadata": {
    "collapsed": false
   },
   "outputs": [
    {
     "name": "stderr",
     "output_type": "stream",
     "text": [
      "INFO:gensim.utils:loading Word2Vec object from /data/w2vmodel_500d_5mc\n",
      "INFO:gensim.utils:loading syn0 from /data/w2vmodel_500d_5mc.syn0.npy with mmap=None\n",
      "INFO:gensim.utils:loading syn1 from /data/w2vmodel_500d_5mc.syn1.npy with mmap=None\n",
      "INFO:gensim.utils:setting ignored attribute syn0norm to None\n",
      "INFO:gensim.utils:setting ignored attribute cum_table to None\n",
      "INFO:gensim.utils:loaded /data/w2vmodel_500d_5mc\n"
     ]
    }
   ],
   "source": [
    "feats = word2vec.fit(data['text'].values, '/data/w2vmodel_500d_5mc')"
   ]
  },
  {
   "cell_type": "code",
   "execution_count": 32,
   "metadata": {
    "collapsed": false
   },
   "outputs": [],
   "source": [
    "utils.save_features(feats, 'sentiment140__w2v')"
   ]
  },
  {
   "cell_type": "code",
   "execution_count": 39,
   "metadata": {
    "collapsed": false
   },
   "outputs": [
    {
     "data": {
      "text/plain": [
       "['/data/features/sentiment140__w2v.npy']"
      ]
     },
     "execution_count": 39,
     "metadata": {},
     "output_type": "execute_result"
    }
   ],
   "source": [
    "glob.glob('/data/features/sentiment140__w2v' + '*')"
   ]
  },
  {
   "cell_type": "code",
   "execution_count": 81,
   "metadata": {
    "collapsed": false
   },
   "outputs": [
    {
     "name": "stderr",
     "output_type": "stream",
     "text": [
      "DEBUG:gsitk.features.utils:Reading features from sentiment140__w2v\n",
      "DEBUG:gsitk.features.utils:['/data/features/sentiment140__w2v.npy']\n",
      "DEBUG:gsitk.features.utils:/data/features/sentiment140__w2v.npy\n",
      "DEBUG:gsitk.features.utils:.npy\n"
     ]
    }
   ],
   "source": [
    "saved = utils.read_features('sentiment140__w2v')"
   ]
  }
 ],
 "metadata": {
  "kernelspec": {
   "display_name": "Python 3",
   "language": "python",
   "name": "python3"
  },
  "language_info": {
   "codemirror_mode": {
    "name": "ipython",
    "version": 3
   },
   "file_extension": ".py",
   "mimetype": "text/x-python",
   "name": "python",
   "nbconvert_exporter": "python",
   "pygments_lexer": "ipython3",
   "version": "3.5.2"
  }
 },
 "nbformat": 4,
 "nbformat_minor": 2
}
