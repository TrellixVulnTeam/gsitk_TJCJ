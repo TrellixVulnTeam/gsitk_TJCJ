{
 "cells": [
  {
   "cell_type": "markdown",
   "metadata": {
    "deletable": true,
    "editable": true
   },
   "source": [
    "This notebook provides a tutorial on how to use the library."
   ]
  },
  {
   "cell_type": "code",
   "execution_count": 1,
   "metadata": {
    "collapsed": true,
    "deletable": true,
    "editable": true
   },
   "outputs": [],
   "source": [
    "%load_ext autoreload"
   ]
  },
  {
   "cell_type": "code",
   "execution_count": 2,
   "metadata": {
    "collapsed": true,
    "deletable": true,
    "editable": true
   },
   "outputs": [],
   "source": [
    "%autoreload 2"
   ]
  },
  {
   "cell_type": "markdown",
   "metadata": {
    "deletable": true,
    "editable": true
   },
   "source": [
    "# Datasets"
   ]
  },
  {
   "cell_type": "markdown",
   "metadata": {
    "deletable": true,
    "editable": true
   },
   "source": [
    "Datasets management is made simple. You can view the available datasets:"
   ]
  },
  {
   "cell_type": "code",
   "execution_count": 3,
   "metadata": {
    "collapsed": false,
    "deletable": true,
    "editable": true
   },
   "outputs": [
    {
     "name": "stdout",
     "output_type": "stream",
     "text": [
      "- pl04:\n",
      "    \t Downloaded: True\n",
      "    \t # instances: 4000\n",
      "\n",
      "- semeval14:\n",
      "    \t Downloaded: True\n",
      "    \t # instances: 7838\n",
      "\n",
      "- semeval13:\n",
      "    \t Downloaded: True\n",
      "    \t # instances: 6259\n",
      "\n",
      "- imdb:\n",
      "    \t Downloaded: True\n",
      "    \t # instances: 50000\n",
      "\n",
      "- vader:\n",
      "    \t Downloaded: True\n",
      "    \t # instances: 4200\n",
      "\n",
      "- sst:\n",
      "    \t Downloaded: True\n",
      "    \t # instances: 11855\n",
      "\n",
      "- sentiment140:\n",
      "    \t Downloaded: True\n",
      "    \t # instances: 1600000\n",
      "\n",
      "- imdb_unsup:\n",
      "    \t Downloaded: True\n",
      "    \t # instances: 50000\n",
      "\n",
      "- multidomain:\n",
      "    \t Downloaded: True\n",
      "    \t # instances: 38548\n",
      "\n",
      "\n"
     ]
    }
   ],
   "source": [
    "from gsitk.datasets.datasets import DatasetManager\n",
    "\n",
    "dm = DatasetManager()\n",
    "dm.view_datasets()"
   ]
  },
  {
   "cell_type": "markdown",
   "metadata": {
    "deletable": true,
    "editable": true
   },
   "source": [
    "Preparing the data is done once. For all datasets:"
   ]
  },
  {
   "cell_type": "code",
   "execution_count": null,
   "metadata": {
    "collapsed": false,
    "deletable": true,
    "editable": true
   },
   "outputs": [],
   "source": [
    "data = dm.prepare_datasets()"
   ]
  },
  {
   "cell_type": "code",
   "execution_count": 10,
   "metadata": {
    "collapsed": false,
    "deletable": true,
    "editable": true
   },
   "outputs": [
    {
     "data": {
      "text/plain": [
       "dict_keys(['imdb', 'vader', 'semeval13', 'sst', 'multidomain', 'imdb_unsup', 'pl04', 'semeval14', 'sentiment140'])"
      ]
     },
     "execution_count": 10,
     "metadata": {},
     "output_type": "execute_result"
    }
   ],
   "source": [
    "data.keys()"
   ]
  },
  {
   "cell_type": "markdown",
   "metadata": {
    "deletable": true,
    "editable": true
   },
   "source": [
    "And for only one dataset:"
   ]
  },
  {
   "cell_type": "code",
   "execution_count": 4,
   "metadata": {
    "collapsed": false,
    "deletable": true,
    "editable": true
   },
   "outputs": [],
   "source": [
    "data = dm.prepare_datasets(['imdb', 'semeval13', 'semeval14'])"
   ]
  },
  {
   "cell_type": "markdown",
   "metadata": {
    "deletable": true,
    "editable": true
   },
   "source": [
    "Data is a dict, in which each value is a pandas DataFrame with the dataset."
   ]
  },
  {
   "cell_type": "code",
   "execution_count": 12,
   "metadata": {
    "collapsed": false,
    "deletable": true,
    "editable": true
   },
   "outputs": [
    {
     "data": {
      "text/html": [
       "<div>\n",
       "<table border=\"1\" class=\"dataframe\">\n",
       "  <thead>\n",
       "    <tr style=\"text-align: right;\">\n",
       "      <th></th>\n",
       "      <th>id</th>\n",
       "      <th>fold</th>\n",
       "      <th>text</th>\n",
       "      <th>polarity</th>\n",
       "      <th>rating</th>\n",
       "    </tr>\n",
       "  </thead>\n",
       "  <tbody>\n",
       "    <tr>\n",
       "      <th>0</th>\n",
       "      <td>10239</td>\n",
       "      <td>train</td>\n",
       "      <td>[i, disagree, with, anyone, who, donet, like, ...</td>\n",
       "      <td>1</td>\n",
       "      <td>10</td>\n",
       "    </tr>\n",
       "    <tr>\n",
       "      <th>1</th>\n",
       "      <td>10337</td>\n",
       "      <td>train</td>\n",
       "      <td>[this, movie, was, extremely, funny, ,, i, wou...</td>\n",
       "      <td>1</td>\n",
       "      <td>9</td>\n",
       "    </tr>\n",
       "    <tr>\n",
       "      <th>2</th>\n",
       "      <td>3881</td>\n",
       "      <td>train</td>\n",
       "      <td>[this, movie, grabbed, me, with, the, incredib...</td>\n",
       "      <td>1</td>\n",
       "      <td>9</td>\n",
       "    </tr>\n",
       "    <tr>\n",
       "      <th>3</th>\n",
       "      <td>3548</td>\n",
       "      <td>train</td>\n",
       "      <td>[just, saw, this, movie, version, of, frank, l...</td>\n",
       "      <td>1</td>\n",
       "      <td>8</td>\n",
       "    </tr>\n",
       "    <tr>\n",
       "      <th>4</th>\n",
       "      <td>9453</td>\n",
       "      <td>train</td>\n",
       "      <td>[deliverance, is, the, fascinating, ,, hauntin...</td>\n",
       "      <td>1</td>\n",
       "      <td>8</td>\n",
       "    </tr>\n",
       "  </tbody>\n",
       "</table>\n",
       "</div>"
      ],
      "text/plain": [
       "      id   fold                                               text polarity  \\\n",
       "0  10239  train  [i, disagree, with, anyone, who, donet, like, ...        1   \n",
       "1  10337  train  [this, movie, was, extremely, funny, ,, i, wou...        1   \n",
       "2   3881  train  [this, movie, grabbed, me, with, the, incredib...        1   \n",
       "3   3548  train  [just, saw, this, movie, version, of, frank, l...        1   \n",
       "4   9453  train  [deliverance, is, the, fascinating, ,, hauntin...        1   \n",
       "\n",
       "  rating  \n",
       "0     10  \n",
       "1      9  \n",
       "2      9  \n",
       "3      8  \n",
       "4      8  "
      ]
     },
     "execution_count": 12,
     "metadata": {},
     "output_type": "execute_result"
    }
   ],
   "source": [
    "data['imdb'].head()"
   ]
  },
  {
   "cell_type": "markdown",
   "metadata": {
    "deletable": true,
    "editable": true
   },
   "source": [
    "# Preprocessing"
   ]
  },
  {
   "cell_type": "markdown",
   "metadata": {
    "deletable": true,
    "editable": true
   },
   "source": [
    "GSITK has utilities for preprocessing:"
   ]
  },
  {
   "cell_type": "code",
   "execution_count": 38,
   "metadata": {
    "collapsed": false,
    "deletable": true,
    "editable": true
   },
   "outputs": [
    {
     "name": "stdout",
     "output_type": "stream",
     "text": [
      "my grandmother is an apple . please , believe me !\n",
      "<user> please let me enter to the usa <allcaps> <hastag> thanks\n"
     ]
    }
   ],
   "source": [
    "from gsitk.preprocess import simple, pprocess_twitter\n",
    "\n",
    "text = \"My grandmother is an apple. Please, believe me!\"\n",
    "twitter_text = \"@POTUS please let me enter to the USA #thanks\"\n",
    "\n",
    "print(simple.clean_str(text))\n",
    "print(pprocess_twitter.tokenize(twitter_text))"
   ]
  },
  {
   "cell_type": "markdown",
   "metadata": {
    "deletable": true,
    "editable": true
   },
   "source": [
    "# Features"
   ]
  },
  {
   "cell_type": "markdown",
   "metadata": {
    "deletable": true,
    "editable": true
   },
   "source": [
    "GSITK has a variety of feature extrators. For exaple, in order to use a word2vec model as feature extractor, write:"
   ]
  },
  {
   "cell_type": "code",
   "execution_count": 39,
   "metadata": {
    "collapsed": false,
    "deletable": true,
    "editable": true
   },
   "outputs": [],
   "source": [
    "from gsitk.features.word2vec import Word2VecFeatures\n",
    "\n",
    "w2v_feat = Word2VecFeatures(w2v_model_path='/data/w2vmodel_500d_5mc')"
   ]
  },
  {
   "cell_type": "markdown",
   "metadata": {
    "deletable": true,
    "editable": true
   },
   "source": [
    "Extracting features is made by the method `transform`. All feature extractors implement `transform`."
   ]
  },
  {
   "cell_type": "code",
   "execution_count": 45,
   "metadata": {
    "collapsed": false,
    "deletable": true,
    "editable": true
   },
   "outputs": [
    {
     "data": {
      "text/plain": [
       "(50000, 500)"
      ]
     },
     "execution_count": 45,
     "metadata": {},
     "output_type": "execute_result"
    }
   ],
   "source": [
    "transformed = w2v_feat.transform(data['imdb']['text'].values)\n",
    "transformed.shape"
   ]
  },
  {
   "cell_type": "code",
   "execution_count": 62,
   "metadata": {
    "collapsed": false,
    "deletable": true,
    "editable": true
   },
   "outputs": [
    {
     "data": {
      "text/plain": [
       "(500,)"
      ]
     },
     "execution_count": 62,
     "metadata": {},
     "output_type": "execute_result"
    }
   ],
   "source": [
    "transformed[0].shape"
   ]
  },
  {
   "cell_type": "markdown",
   "metadata": {
    "deletable": true,
    "editable": true
   },
   "source": [
    "If extracting the features is time consuming, you can save the features locally:"
   ]
  },
  {
   "cell_type": "code",
   "execution_count": 47,
   "metadata": {
    "collapsed": true,
    "deletable": true,
    "editable": true
   },
   "outputs": [],
   "source": [
    "from gsitk.features import features\n",
    "\n",
    "features.save_features(transformed, 'w2v__sentiment40')"
   ]
  },
  {
   "cell_type": "markdown",
   "metadata": {
    "deletable": true,
    "editable": true
   },
   "source": [
    "And you can load them later:"
   ]
  },
  {
   "cell_type": "code",
   "execution_count": 49,
   "metadata": {
    "collapsed": false,
    "deletable": true,
    "editable": true
   },
   "outputs": [
    {
     "data": {
      "text/plain": [
       "array([[ 0.04839503, -0.03920275,  0.01310699, ..., -0.01793178,\n",
       "         0.01850573,  0.01894511],\n",
       "       [ 0.02001294, -0.01502401, -0.0211135 , ..., -0.01764425,\n",
       "        -0.00566167,  0.02577729],\n",
       "       [ 0.01879481, -0.04025034, -0.02238391, ..., -0.01603499,\n",
       "         0.00581812,  0.03437515],\n",
       "       ..., \n",
       "       [ 0.01735126, -0.02752644, -0.02615537, ..., -0.00227182,\n",
       "         0.00647882,  0.01969421],\n",
       "       [ 0.01858013, -0.01519343, -0.01451839, ..., -0.00798909,\n",
       "         0.00773863,  0.04368705],\n",
       "       [ 0.03160627, -0.0360069 , -0.006861  , ..., -0.01662612,\n",
       "         0.00133611,  0.0172867 ]])"
      ]
     },
     "execution_count": 49,
     "metadata": {},
     "output_type": "execute_result"
    }
   ],
   "source": [
    "features.load_features('w2v__sentiment')"
   ]
  },
  {
   "cell_type": "markdown",
   "metadata": {
    "deletable": true,
    "editable": true
   },
   "source": [
    "# Evaluation"
   ]
  },
  {
   "cell_type": "markdown",
   "metadata": {
    "deletable": true,
    "editable": true
   },
   "source": [
    "The evaluation process uses pipes. Pipe are a way of organizing the different elements of the evaluation. Pipes are represented by EvalTuples, that are a way of specifiying which datasets, features and classifiers we want to evaluate."
   ]
  },
  {
   "cell_type": "markdown",
   "metadata": {
    "deletable": true,
    "editable": true
   },
   "source": [
    "For evaluating a set of models that predict from a set of features, `EvalTuple` are specified. The next example evaluates a simple logistic regressions model that uses word2vec features to predict the sentiment of the `IMDB` dataset."
   ]
  },
  {
   "cell_type": "code",
   "execution_count": 72,
   "metadata": {
    "collapsed": false,
    "deletable": true,
    "editable": true
   },
   "outputs": [
    {
     "data": {
      "text/plain": [
       "SGDClassifier(alpha=0.0001, average=False, class_weight=None, epsilon=0.1,\n",
       "       eta0=0.0, fit_intercept=True, l1_ratio=0.15,\n",
       "       learning_rate='optimal', loss='hinge', n_iter=5, n_jobs=1,\n",
       "       penalty='l2', power_t=0.5, random_state=None, shuffle=True,\n",
       "       verbose=0, warm_start=False)"
      ]
     },
     "execution_count": 72,
     "metadata": {},
     "output_type": "execute_result"
    }
   ],
   "source": [
    "from sklearn.linear_model import SGDClassifier\n",
    "\n",
    "sgd = SGDClassifier()\n",
    "\n",
    "# transformed is the features extracted from the IMDB dataset\n",
    "# to properly evaluate, separate in train and test \n",
    "# using the original dataset fold\n",
    "train_indices = (data['imdb']['fold'] == 'train').values\n",
    "test_indices =(data['imdb']['fold'] == 'test').values\n",
    "\n",
    "transformed_train = transformed[train_indices]\n",
    "transformed_test = transformed[test_indices]\n",
    "\n",
    "\n",
    "sgd.fit(transformed_train, data['imdb']['polarity'][train_indices])"
   ]
  },
  {
   "cell_type": "markdown",
   "metadata": {
    "deletable": true,
    "editable": true
   },
   "source": [
    "Prepare the model, features and `EvalTuple` for the evaluation."
   ]
  },
  {
   "cell_type": "code",
   "execution_count": 74,
   "metadata": {
    "collapsed": true,
    "deletable": true,
    "editable": true
   },
   "outputs": [],
   "source": [
    "from gsitk.pipe import Model, Features, EvalTuple\n",
    "\n",
    "models = [Model(name='sgd', classifier=sgd)]\n",
    "\n",
    "feats = [Features(name='w2v__imdb_test', dataset='imdb', values=transformed_test)]\n",
    "\n",
    "ets = [EvalTuple(classifier='sgd', features='w2v__imdb_test', labels='imdb')]"
   ]
  },
  {
   "cell_type": "markdown",
   "metadata": {
    "deletable": true,
    "editable": true
   },
   "source": [
    "Perform the evaluation!"
   ]
  },
  {
   "cell_type": "code",
   "execution_count": 122,
   "metadata": {
    "collapsed": false,
    "deletable": true,
    "editable": true
   },
   "outputs": [],
   "source": [
    "from gsitk.evaluation.evaluation import Evaluation\n",
    "\n",
    "ev = Evaluation(datasets=data, features=feats, models=models, tuples=ets)"
   ]
  },
  {
   "cell_type": "code",
   "execution_count": 123,
   "metadata": {
    "collapsed": false,
    "deletable": true,
    "editable": true,
    "scrolled": false
   },
   "outputs": [
    {
     "data": {
      "text/html": [
       "<div>\n",
       "<table border=\"1\" class=\"dataframe\">\n",
       "  <thead>\n",
       "    <tr style=\"text-align: right;\">\n",
       "      <th></th>\n",
       "      <th>Dataset</th>\n",
       "      <th>Features</th>\n",
       "      <th>Model</th>\n",
       "      <th>CV</th>\n",
       "      <th>accuracy</th>\n",
       "      <th>precision_macro</th>\n",
       "      <th>recall_macro</th>\n",
       "      <th>f1_weighted</th>\n",
       "      <th>f1_micro</th>\n",
       "      <th>f1_macro</th>\n",
       "    </tr>\n",
       "  </thead>\n",
       "  <tbody>\n",
       "    <tr>\n",
       "      <th>0</th>\n",
       "      <td>imdb</td>\n",
       "      <td>w2v__imdb_test</td>\n",
       "      <td>sgd</td>\n",
       "      <td>False</td>\n",
       "      <td>0.76164</td>\n",
       "      <td>0.782904</td>\n",
       "      <td>0.76164</td>\n",
       "      <td>0.757075</td>\n",
       "      <td>0.76164</td>\n",
       "      <td>0.757075</td>\n",
       "    </tr>\n",
       "  </tbody>\n",
       "</table>\n",
       "</div>"
      ],
      "text/plain": [
       "  Dataset        Features Model     CV accuracy precision_macro recall_macro  \\\n",
       "0    imdb  w2v__imdb_test   sgd  False  0.76164        0.782904      0.76164   \n",
       "\n",
       "  f1_weighted f1_micro  f1_macro  \n",
       "0    0.757075  0.76164  0.757075  "
      ]
     },
     "execution_count": 123,
     "metadata": {},
     "output_type": "execute_result"
    }
   ],
   "source": [
    "# run the evaluation\n",
    "ev.evaluate()\n",
    "\n",
    "# view the results\n",
    "ev.results"
   ]
  },
  {
   "cell_type": "markdown",
   "metadata": {
    "deletable": true,
    "editable": true
   },
   "source": [
    "# New use case"
   ]
  },
  {
   "cell_type": "code",
   "execution_count": 5,
   "metadata": {
    "collapsed": true,
    "deletable": true,
    "editable": true
   },
   "outputs": [],
   "source": [
    "data_ready = {}\n",
    "for data_k, data_v in data.items():\n",
    "    data_ready[data_k] = data_v.copy()\n",
    "    data_ready[data_k]['text'] = data_v['text'].apply(' '.join).values"
   ]
  },
  {
   "cell_type": "code",
   "execution_count": 6,
   "metadata": {
    "collapsed": false,
    "deletable": true,
    "editable": true
   },
   "outputs": [],
   "source": [
    "from sklearn.pipeline import Pipeline\n",
    "from sklearn.feature_extraction.text import CountVectorizer\n",
    "from sklearn.feature_extraction.text import TfidfTransformer\n",
    "from sklearn.linear_model import SGDClassifier\n",
    "\n",
    "pipeline = Pipeline([\n",
    "    ('vect', CountVectorizer()),\n",
    "    ('tfidf', TfidfTransformer()),\n",
    "    ('clf', SGDClassifier()),\n",
    "])\n",
    "\n",
    "pipeline.fit(data['semeval13']['text'].apply(' '.join).values,\n",
    "             data['semeval13']['polarity'].values.astype(int))\n",
    "pipeline.name = 'pipeline_trained'\n",
    "pipeline.named_steps['vect'].name = 'myvect'\n",
    "pipeline.named_steps['tfidf'].name = 'mytfidf'\n",
    "pipeline.named_steps['clf'].name = 'mylogisticregressor'\n",
    "\n",
    "\n",
    "pipeline2 = Pipeline([\n",
    "    ('vect', CountVectorizer()),\n",
    "    ('tfidf', TfidfTransformer()),\n",
    "    ('clf', SGDClassifier()),\n",
    "])\n",
    "\n",
    "pipeline2.fit(data['semeval14']['text'].apply(' '.join).values,\n",
    "             data['semeval14']['polarity'].values.astype(int))\n",
    "pipeline2.name = 'pipeline_trained2'"
   ]
  },
  {
   "cell_type": "code",
   "execution_count": 8,
   "metadata": {
    "collapsed": false,
    "deletable": true,
    "editable": true
   },
   "outputs": [
    {
     "data": {
      "text/html": [
       "<div>\n",
       "<table border=\"1\" class=\"dataframe\">\n",
       "  <thead>\n",
       "    <tr style=\"text-align: right;\">\n",
       "      <th></th>\n",
       "      <th>Dataset</th>\n",
       "      <th>Features</th>\n",
       "      <th>Model</th>\n",
       "      <th>CV</th>\n",
       "      <th>accuracy</th>\n",
       "      <th>precision_macro</th>\n",
       "      <th>recall_macro</th>\n",
       "      <th>f1_weighted</th>\n",
       "      <th>f1_micro</th>\n",
       "      <th>f1_macro</th>\n",
       "      <th>Description</th>\n",
       "    </tr>\n",
       "  </thead>\n",
       "  <tbody>\n",
       "    <tr>\n",
       "      <th>0</th>\n",
       "      <td>semeval13</td>\n",
       "      <td>None</td>\n",
       "      <td>pipeline_trained__semeval13</td>\n",
       "      <td>False</td>\n",
       "      <td>0.93708</td>\n",
       "      <td>0.951259</td>\n",
       "      <td>0.915951</td>\n",
       "      <td>0.936753</td>\n",
       "      <td>0.93708</td>\n",
       "      <td>0.931609</td>\n",
       "      <td>vect(myvect) --&gt; tfidf(mytfidf) --&gt; clf(mylogi...</td>\n",
       "    </tr>\n",
       "    <tr>\n",
       "      <th>1</th>\n",
       "      <td>semeval13</td>\n",
       "      <td>None</td>\n",
       "      <td>pipeline_trained2__semeval13</td>\n",
       "      <td>False</td>\n",
       "      <td>0.664105</td>\n",
       "      <td>0.630446</td>\n",
       "      <td>0.583108</td>\n",
       "      <td>0.655742</td>\n",
       "      <td>0.664105</td>\n",
       "      <td>0.596319</td>\n",
       "      <td>vect --&gt; tfidf --&gt; clf</td>\n",
       "    </tr>\n",
       "    <tr>\n",
       "      <th>2</th>\n",
       "      <td>semeval14</td>\n",
       "      <td>None</td>\n",
       "      <td>pipeline_trained2__semeval14</td>\n",
       "      <td>False</td>\n",
       "      <td>0.907514</td>\n",
       "      <td>0.91692</td>\n",
       "      <td>0.889563</td>\n",
       "      <td>0.9071</td>\n",
       "      <td>0.907514</td>\n",
       "      <td>0.901148</td>\n",
       "      <td>vect --&gt; tfidf --&gt; clf</td>\n",
       "    </tr>\n",
       "    <tr>\n",
       "      <th>3</th>\n",
       "      <td>semeval14</td>\n",
       "      <td>None</td>\n",
       "      <td>pipeline_trained__semeval14</td>\n",
       "      <td>False</td>\n",
       "      <td>0.642429</td>\n",
       "      <td>0.634108</td>\n",
       "      <td>0.580425</td>\n",
       "      <td>0.632416</td>\n",
       "      <td>0.642429</td>\n",
       "      <td>0.593557</td>\n",
       "      <td>vect(myvect) --&gt; tfidf(mytfidf) --&gt; clf(mylogi...</td>\n",
       "    </tr>\n",
       "  </tbody>\n",
       "</table>\n",
       "</div>"
      ],
      "text/plain": [
       "     Dataset Features                         Model     CV  accuracy  \\\n",
       "0  semeval13     None   pipeline_trained__semeval13  False   0.93708   \n",
       "1  semeval13     None  pipeline_trained2__semeval13  False  0.664105   \n",
       "2  semeval14     None  pipeline_trained2__semeval14  False  0.907514   \n",
       "3  semeval14     None   pipeline_trained__semeval14  False  0.642429   \n",
       "\n",
       "  precision_macro recall_macro f1_weighted  f1_micro  f1_macro  \\\n",
       "0        0.951259     0.915951    0.936753   0.93708  0.931609   \n",
       "1        0.630446     0.583108    0.655742  0.664105  0.596319   \n",
       "2         0.91692     0.889563      0.9071  0.907514  0.901148   \n",
       "3        0.634108     0.580425    0.632416  0.642429  0.593557   \n",
       "\n",
       "                                         Description  \n",
       "0  vect(myvect) --> tfidf(mytfidf) --> clf(mylogi...  \n",
       "1                             vect --> tfidf --> clf  \n",
       "2                             vect --> tfidf --> clf  \n",
       "3  vect(myvect) --> tfidf(mytfidf) --> clf(mylogi...  "
      ]
     },
     "execution_count": 8,
     "metadata": {},
     "output_type": "execute_result"
    }
   ],
   "source": [
    "from gsitk.evaluation.evaluation import Evaluation\n",
    "\n",
    "datasets_evaluation = {\n",
    "    'semeval13': data_ready['semeval13'],\n",
    "    'semeval14': data_ready['semeval14']\n",
    "}\n",
    "\n",
    "ev = Evaluation(tuples=None,\n",
    "                datasets=datasets_evaluation,\n",
    "                pipelines=[pipeline, pipeline2])\n",
    "ev.evaluate()\n",
    "ev.results"
   ]
  }
 ],
 "metadata": {
  "kernelspec": {
   "display_name": "Python 3",
   "language": "python",
   "name": "python3"
  },
  "language_info": {
   "codemirror_mode": {
    "name": "ipython",
    "version": 3
   },
   "file_extension": ".py",
   "mimetype": "text/x-python",
   "name": "python",
   "nbconvert_exporter": "python",
   "pygments_lexer": "ipython3",
   "version": "3.5.3"
  }
 },
 "nbformat": 4,
 "nbformat_minor": 2
}
